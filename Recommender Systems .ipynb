{
 "cells": [
  {
   "cell_type": "markdown",
   "metadata": {
    "collapsed": true
   },
   "source": [
    "# Popularity based recommender Systems"
   ]
  },
  {
   "cell_type": "raw",
   "metadata": {},
   "source": [
    "In a popularity based recommender system, we have two categories (Users and Items). We simply sort the items based no the number of users buying them or watching them (In simplest words, what's trending) and pick up the top items to display and it usually same for all the users. For example, top news on a new site.\n",
    "\n",
    "Few cases that can affect a popularity based recommender systems are:\n",
    "1.It can use the context(eg. time of the day)\n",
    "2.User Features - Age , Sex (For shopping sites, top trending products)\n",
    "3.Item Features \n",
    "4.Purchase History\n",
    "5.Scalable  - It is scalabale. We just have to sort the items."
   ]
  },
  {
   "cell_type": "markdown",
   "metadata": {},
   "source": [
    "# Classification Based Recommeder System"
   ]
  },
  {
   "cell_type": "raw",
   "metadata": {},
   "source": [
    "Use features of both products as well as users in order to decide whether a new user considered will buy a particular product or not. \n",
    "\n",
    "INPUT - \n",
    "1.User Features - Age , Gender\n",
    "2.Product Features - Cost, Quality\n",
    "3.Purchase History\n",
    "\n",
    "Based on the above input, the system will give binary output whether a new user will like it or not. In this way we can categorize products for teenagers and product for middle- aged people.\n",
    "\n",
    "It might not be very scalable because as the number of users will increase, classifying will become more and more difficult. In addition to that it is difficult to maintain a data set , update it online and apply classification model on that.\n",
    "\n",
    "By classification we mean - Logistic Regression and Naive Bayes Classification\n"
   ]
  },
  {
   "cell_type": "markdown",
   "metadata": {},
   "source": [
    "# Nearest Neighbour Colaborative Filtering "
   ]
  },
  {
   "cell_type": "raw",
   "metadata": {},
   "source": [
    "Nearest neighbour approach is used to find either similar users or similar products.\n",
    "Two ways:\n",
    "1. Look at the similarity between the users: (User based filtering)\n",
    "Here the boy and the girl are the similar type of users, so we recommend those fruits to the boy which girl has tried and he hasn't.\n",
    "\n",
    "1) Find Users who have similar taste of product as the current user. And then whatever they have bought and current user hasnt and will recommmed those products to the current user.\n",
    "2) Similarity is based upon similarity in user's purchasing behavior.\n",
    "3) User X is similar to user Y because both purchased similar items.\n",
    "\n",
    "\n",
    "2. Look at the similarity between the products: (Product Based Filtering)\n",
    "Now we can see that berries and melon are being purchased together mostly. So we can say they have some similarity in terms of buying and hence to those who are buying melon we can recommend berries.\n",
    "\n",
    "\n",
    "1) Recommend items that are similar to the items that user bought.\n",
    "2) Similarity is based upon co-occurences of purchases.\n",
    "3) Items A and B were purchased by both the users x and y, so they are similar."
   ]
  },
  {
   "cell_type": "markdown",
   "metadata": {},
   "source": [
    "![title](collaborativeFiltering.jpg)"
   ]
  },
  {
   "cell_type": "markdown",
   "metadata": {},
   "source": [
    "# Item Based Collaborative Filtering"
   ]
  },
  {
   "cell_type": "raw",
   "metadata": {},
   "source": [
    "Let us look into Item Based Collaborative filtering: \n",
    "Below is a History Matrix:\n",
    "User watching particular movies"
   ]
  },
  {
   "cell_type": "markdown",
   "metadata": {},
   "source": [
    "![title](recommendation-grid.png)"
   ]
  },
  {
   "cell_type": "raw",
   "metadata": {},
   "source": [
    "Then we make a co_occurence matrix of the movies:\n",
    "Co-occurence matrix- We take all the unique items(in this case movies) and make all possible combinations of the unique items. Values inside depict how many users have watch A and B, A and C. (A, B, C are the three movies)"
   ]
  },
  {
   "cell_type": "markdown",
   "metadata": {},
   "source": [
    "![title](co-occurrence-matrix.png)"
   ]
  },
  {
   "cell_type": "raw",
   "metadata": {},
   "source": [
    "Here, Ted is the only person who has watched movie A and B(so value \"1\" in the matrix). While movies A and C has been watched by both Carol and Ted(Hence, value 2 there).\n",
    "\n",
    "Now, for Bob, we will see which of the movies he has already watched and then recommend. Bob has seen A, so on sorting co-occurence matrix row for A in desecending order, we get the value of C to be most likely to be paired along with it.\n",
    "\n",
    "Consider the case of a movie, say Titanic, almost all the users have watched this movie and in that case it's value in the co-occurence matirx will be veru high and our algo will choose it to recommend everytime. We can say that our recommender system will start working like a popularity based recommender system in that case. To avoid that, we will perform Normalization:\n",
    "\n",
    "Apllying Jaccard similarity method: \n",
    "1) Normalize by Popularity\n",
    "2) Number of users for i and j / number of users for either i or j\n",
    "\n",
    "(Note-Number of users for i and j is what is given in the matrix above)\n",
    "\n",
    "New matrix will be like:\n",
    "   A     B     C    Titanic\n",
    "A |     | 1/3 | 2/2 | 100,000/100,02\n",
    "B | 1/3 |     | 1/2 |\n",
    "C | 2/3 | 1/2 |     |\n",
    "\n",
    "\n",
    "In case Bob has watched more than one movie, let's say D, then we take out both the rows A and D and find the normalized sum and will recommend in teh same way."
   ]
  },
  {
   "cell_type": "markdown",
   "metadata": {},
   "source": [
    "# Model Based Collaborative Filtering (Matrix Factorization)"
   ]
  },
  {
   "cell_type": "raw",
   "metadata": {},
   "source": [
    "For a large, sparse matrix 480,189 X 17,770 (user X itemratings matrix) having only a million ratings.\n",
    "What Model Based Collaborative filtering does is, it identifies the latent(hidden) features from the user X itemratings matrix to represnt users and items as vectors in N-dimensional space and then build a model in low rank dimensional space.\n",
    "\n",
    "\n",
    "\n",
    "Input Matrix is taken and converted to a user matrix of vectors and itemratings Matrix "
   ]
  },
  {
   "cell_type": "markdown",
   "metadata": {},
   "source": [
    "# Building a Music Recommender System"
   ]
  },
  {
   "cell_type": "markdown",
   "metadata": {
    "collapsed": true
   },
   "source": [
    "Crab module in Python used to recommendation"
   ]
  },
  {
   "cell_type": "code",
   "execution_count": 1,
   "metadata": {},
   "outputs": [
    {
     "name": "stderr",
     "output_type": "stream",
     "text": [
      "/Users/melon/anaconda3/lib/python3.6/site-packages/sklearn/cross_validation.py:44: DeprecationWarning: This module was deprecated in version 0.18 in favor of the model_selection module into which all the refactored classes and functions are moved. Also note that the interface of the new CV iterators are different from that of this module. This module will be removed in 0.20.\n",
      "  \"This module will be removed in 0.20.\", DeprecationWarning)\n"
     ]
    }
   ],
   "source": [
    "%matplotlib inline\n",
    "\n",
    "import pandas as pd\n",
    "from sklearn.cross_validation import train_test_split\n",
    "import numpy as np\n",
    "import time\n",
    "from sklearn.externals import joblib\n",
    "import Recommenders as Recommenders\n",
    "#import Evaluation as Evaluation"
   ]
  },
  {
   "cell_type": "code",
   "execution_count": 2,
   "metadata": {},
   "outputs": [
    {
     "data": {
      "text/html": [
       "<div>\n",
       "<style>\n",
       "    .dataframe thead tr:only-child th {\n",
       "        text-align: right;\n",
       "    }\n",
       "\n",
       "    .dataframe thead th {\n",
       "        text-align: left;\n",
       "    }\n",
       "\n",
       "    .dataframe tbody tr th {\n",
       "        vertical-align: top;\n",
       "    }\n",
       "</style>\n",
       "<table border=\"1\" class=\"dataframe\">\n",
       "  <thead>\n",
       "    <tr style=\"text-align: right;\">\n",
       "      <th></th>\n",
       "      <th>user_id</th>\n",
       "      <th>song_id</th>\n",
       "      <th>listen_count</th>\n",
       "      <th>title</th>\n",
       "      <th>release</th>\n",
       "      <th>artist_name</th>\n",
       "      <th>year</th>\n",
       "    </tr>\n",
       "  </thead>\n",
       "  <tbody>\n",
       "    <tr>\n",
       "      <th>0</th>\n",
       "      <td>b80344d063b5ccb3212f76538f3d9e43d87dca9e</td>\n",
       "      <td>SOAKIMP12A8C130995</td>\n",
       "      <td>1</td>\n",
       "      <td>The Cove</td>\n",
       "      <td>Thicker Than Water</td>\n",
       "      <td>Jack Johnson</td>\n",
       "      <td>0</td>\n",
       "    </tr>\n",
       "    <tr>\n",
       "      <th>1</th>\n",
       "      <td>b80344d063b5ccb3212f76538f3d9e43d87dca9e</td>\n",
       "      <td>SOBBMDR12A8C13253B</td>\n",
       "      <td>2</td>\n",
       "      <td>Entre Dos Aguas</td>\n",
       "      <td>Flamenco Para Niños</td>\n",
       "      <td>Paco De Lucia</td>\n",
       "      <td>1976</td>\n",
       "    </tr>\n",
       "    <tr>\n",
       "      <th>2</th>\n",
       "      <td>b80344d063b5ccb3212f76538f3d9e43d87dca9e</td>\n",
       "      <td>SOBXHDL12A81C204C0</td>\n",
       "      <td>1</td>\n",
       "      <td>Stronger</td>\n",
       "      <td>Graduation</td>\n",
       "      <td>Kanye West</td>\n",
       "      <td>2007</td>\n",
       "    </tr>\n",
       "    <tr>\n",
       "      <th>3</th>\n",
       "      <td>b80344d063b5ccb3212f76538f3d9e43d87dca9e</td>\n",
       "      <td>SOBYHAJ12A6701BF1D</td>\n",
       "      <td>1</td>\n",
       "      <td>Constellations</td>\n",
       "      <td>In Between Dreams</td>\n",
       "      <td>Jack Johnson</td>\n",
       "      <td>2005</td>\n",
       "    </tr>\n",
       "    <tr>\n",
       "      <th>4</th>\n",
       "      <td>b80344d063b5ccb3212f76538f3d9e43d87dca9e</td>\n",
       "      <td>SODACBL12A8C13C273</td>\n",
       "      <td>1</td>\n",
       "      <td>Learn To Fly</td>\n",
       "      <td>There Is Nothing Left To Lose</td>\n",
       "      <td>Foo Fighters</td>\n",
       "      <td>1999</td>\n",
       "    </tr>\n",
       "  </tbody>\n",
       "</table>\n",
       "</div>"
      ],
      "text/plain": [
       "                                    user_id             song_id  listen_count  \\\n",
       "0  b80344d063b5ccb3212f76538f3d9e43d87dca9e  SOAKIMP12A8C130995             1   \n",
       "1  b80344d063b5ccb3212f76538f3d9e43d87dca9e  SOBBMDR12A8C13253B             2   \n",
       "2  b80344d063b5ccb3212f76538f3d9e43d87dca9e  SOBXHDL12A81C204C0             1   \n",
       "3  b80344d063b5ccb3212f76538f3d9e43d87dca9e  SOBYHAJ12A6701BF1D             1   \n",
       "4  b80344d063b5ccb3212f76538f3d9e43d87dca9e  SODACBL12A8C13C273             1   \n",
       "\n",
       "             title                        release    artist_name  year  \n",
       "0         The Cove             Thicker Than Water   Jack Johnson     0  \n",
       "1  Entre Dos Aguas            Flamenco Para Niños  Paco De Lucia  1976  \n",
       "2         Stronger                     Graduation     Kanye West  2007  \n",
       "3   Constellations              In Between Dreams   Jack Johnson  2005  \n",
       "4     Learn To Fly  There Is Nothing Left To Lose   Foo Fighters  1999  "
      ]
     },
     "execution_count": 2,
     "metadata": {},
     "output_type": "execute_result"
    }
   ],
   "source": [
    "#WE are using here a subset of milion songs data set\n",
    "triplets = 'https://static.turi.com/datasets/millionsong/10000.txt' #triplets = user_id,song_id and listen_count\n",
    "song_data = 'https://static.turi.com/datasets/millionsong/song_data.csv' #Info about songs\n",
    "\n",
    "songs_df1 = pd.read_csv(triplets , delim_whitespace= True , header = None)\n",
    "songs_df1.columns = ['user_id' , 'song_id' , 'listen_count']\n",
    "\n",
    "#Read song meta data\n",
    "songs_df2 = pd.read_csv(song_data)\n",
    "\n",
    "\n",
    "#Merging the above two data frames to make input data frame for our recommender system\n",
    "song_df = pd.merge(songs_df1 , songs_df2.drop_duplicates(['song_id']) , on = 'song_id' , how = 'left')\n",
    "\n",
    "song_df.head()\n"
   ]
  },
  {
   "cell_type": "markdown",
   "metadata": {},
   "source": [
    "# Length of data"
   ]
  },
  {
   "cell_type": "code",
   "execution_count": 3,
   "metadata": {},
   "outputs": [
    {
     "data": {
      "text/plain": [
       "2000000"
      ]
     },
     "execution_count": 3,
     "metadata": {},
     "output_type": "execute_result"
    }
   ],
   "source": [
    "len(song_df)"
   ]
  },
  {
   "cell_type": "markdown",
   "metadata": {},
   "source": [
    "# Creating a subset of the data set"
   ]
  },
  {
   "cell_type": "code",
   "execution_count": 4,
   "metadata": {
    "collapsed": true
   },
   "outputs": [],
   "source": [
    "song_df = song_df.head(10000)"
   ]
  },
  {
   "cell_type": "code",
   "execution_count": 5,
   "metadata": {},
   "outputs": [
    {
     "data": {
      "text/html": [
       "<div>\n",
       "<style>\n",
       "    .dataframe thead tr:only-child th {\n",
       "        text-align: right;\n",
       "    }\n",
       "\n",
       "    .dataframe thead th {\n",
       "        text-align: left;\n",
       "    }\n",
       "\n",
       "    .dataframe tbody tr th {\n",
       "        vertical-align: top;\n",
       "    }\n",
       "</style>\n",
       "<table border=\"1\" class=\"dataframe\">\n",
       "  <thead>\n",
       "    <tr style=\"text-align: right;\">\n",
       "      <th></th>\n",
       "      <th>user_id</th>\n",
       "      <th>song_id</th>\n",
       "      <th>listen_count</th>\n",
       "      <th>title</th>\n",
       "      <th>release</th>\n",
       "      <th>artist_name</th>\n",
       "      <th>year</th>\n",
       "      <th>song</th>\n",
       "    </tr>\n",
       "  </thead>\n",
       "  <tbody>\n",
       "    <tr>\n",
       "      <th>0</th>\n",
       "      <td>b80344d063b5ccb3212f76538f3d9e43d87dca9e</td>\n",
       "      <td>SOAKIMP12A8C130995</td>\n",
       "      <td>1</td>\n",
       "      <td>The Cove</td>\n",
       "      <td>Thicker Than Water</td>\n",
       "      <td>Jack Johnson</td>\n",
       "      <td>0</td>\n",
       "      <td>The Cove-Jack Johnson</td>\n",
       "    </tr>\n",
       "    <tr>\n",
       "      <th>1</th>\n",
       "      <td>b80344d063b5ccb3212f76538f3d9e43d87dca9e</td>\n",
       "      <td>SOBBMDR12A8C13253B</td>\n",
       "      <td>2</td>\n",
       "      <td>Entre Dos Aguas</td>\n",
       "      <td>Flamenco Para Niños</td>\n",
       "      <td>Paco De Lucia</td>\n",
       "      <td>1976</td>\n",
       "      <td>Entre Dos Aguas-Paco De Lucia</td>\n",
       "    </tr>\n",
       "    <tr>\n",
       "      <th>2</th>\n",
       "      <td>b80344d063b5ccb3212f76538f3d9e43d87dca9e</td>\n",
       "      <td>SOBXHDL12A81C204C0</td>\n",
       "      <td>1</td>\n",
       "      <td>Stronger</td>\n",
       "      <td>Graduation</td>\n",
       "      <td>Kanye West</td>\n",
       "      <td>2007</td>\n",
       "      <td>Stronger-Kanye West</td>\n",
       "    </tr>\n",
       "    <tr>\n",
       "      <th>3</th>\n",
       "      <td>b80344d063b5ccb3212f76538f3d9e43d87dca9e</td>\n",
       "      <td>SOBYHAJ12A6701BF1D</td>\n",
       "      <td>1</td>\n",
       "      <td>Constellations</td>\n",
       "      <td>In Between Dreams</td>\n",
       "      <td>Jack Johnson</td>\n",
       "      <td>2005</td>\n",
       "      <td>Constellations-Jack Johnson</td>\n",
       "    </tr>\n",
       "    <tr>\n",
       "      <th>4</th>\n",
       "      <td>b80344d063b5ccb3212f76538f3d9e43d87dca9e</td>\n",
       "      <td>SODACBL12A8C13C273</td>\n",
       "      <td>1</td>\n",
       "      <td>Learn To Fly</td>\n",
       "      <td>There Is Nothing Left To Lose</td>\n",
       "      <td>Foo Fighters</td>\n",
       "      <td>1999</td>\n",
       "      <td>Learn To Fly-Foo Fighters</td>\n",
       "    </tr>\n",
       "  </tbody>\n",
       "</table>\n",
       "</div>"
      ],
      "text/plain": [
       "                                    user_id             song_id  listen_count  \\\n",
       "0  b80344d063b5ccb3212f76538f3d9e43d87dca9e  SOAKIMP12A8C130995             1   \n",
       "1  b80344d063b5ccb3212f76538f3d9e43d87dca9e  SOBBMDR12A8C13253B             2   \n",
       "2  b80344d063b5ccb3212f76538f3d9e43d87dca9e  SOBXHDL12A81C204C0             1   \n",
       "3  b80344d063b5ccb3212f76538f3d9e43d87dca9e  SOBYHAJ12A6701BF1D             1   \n",
       "4  b80344d063b5ccb3212f76538f3d9e43d87dca9e  SODACBL12A8C13C273             1   \n",
       "\n",
       "             title                        release    artist_name  year  \\\n",
       "0         The Cove             Thicker Than Water   Jack Johnson     0   \n",
       "1  Entre Dos Aguas            Flamenco Para Niños  Paco De Lucia  1976   \n",
       "2         Stronger                     Graduation     Kanye West  2007   \n",
       "3   Constellations              In Between Dreams   Jack Johnson  2005   \n",
       "4     Learn To Fly  There Is Nothing Left To Lose   Foo Fighters  1999   \n",
       "\n",
       "                            song  \n",
       "0          The Cove-Jack Johnson  \n",
       "1  Entre Dos Aguas-Paco De Lucia  \n",
       "2            Stronger-Kanye West  \n",
       "3    Constellations-Jack Johnson  \n",
       "4      Learn To Fly-Foo Fighters  "
      ]
     },
     "execution_count": 5,
     "metadata": {},
     "output_type": "execute_result"
    }
   ],
   "source": [
    "#Merge the 'title' column and 'artist_name' column to produce a new column (song)\n",
    "#Each song can be distinguish by song-name and artist, hence combined\n",
    "\n",
    "song_df['song'] = song_df['title'].map(str) + '-' + song_df['artist_name']\n",
    "song_df.head()"
   ]
  },
  {
   "cell_type": "code",
   "execution_count": 6,
   "metadata": {},
   "outputs": [
    {
     "data": {
      "text/html": [
       "<div>\n",
       "<style>\n",
       "    .dataframe thead tr:only-child th {\n",
       "        text-align: right;\n",
       "    }\n",
       "\n",
       "    .dataframe thead th {\n",
       "        text-align: left;\n",
       "    }\n",
       "\n",
       "    .dataframe tbody tr th {\n",
       "        vertical-align: top;\n",
       "    }\n",
       "</style>\n",
       "<table border=\"1\" class=\"dataframe\">\n",
       "  <thead>\n",
       "    <tr style=\"text-align: right;\">\n",
       "      <th></th>\n",
       "      <th>user_id</th>\n",
       "      <th>song_id</th>\n",
       "      <th>listen_count</th>\n",
       "      <th>release</th>\n",
       "      <th>year</th>\n",
       "      <th>song</th>\n",
       "    </tr>\n",
       "  </thead>\n",
       "  <tbody>\n",
       "    <tr>\n",
       "      <th>0</th>\n",
       "      <td>b80344d063b5ccb3212f76538f3d9e43d87dca9e</td>\n",
       "      <td>SOAKIMP12A8C130995</td>\n",
       "      <td>1</td>\n",
       "      <td>Thicker Than Water</td>\n",
       "      <td>0</td>\n",
       "      <td>The Cove-Jack Johnson</td>\n",
       "    </tr>\n",
       "    <tr>\n",
       "      <th>1</th>\n",
       "      <td>b80344d063b5ccb3212f76538f3d9e43d87dca9e</td>\n",
       "      <td>SOBBMDR12A8C13253B</td>\n",
       "      <td>2</td>\n",
       "      <td>Flamenco Para Niños</td>\n",
       "      <td>1976</td>\n",
       "      <td>Entre Dos Aguas-Paco De Lucia</td>\n",
       "    </tr>\n",
       "    <tr>\n",
       "      <th>2</th>\n",
       "      <td>b80344d063b5ccb3212f76538f3d9e43d87dca9e</td>\n",
       "      <td>SOBXHDL12A81C204C0</td>\n",
       "      <td>1</td>\n",
       "      <td>Graduation</td>\n",
       "      <td>2007</td>\n",
       "      <td>Stronger-Kanye West</td>\n",
       "    </tr>\n",
       "    <tr>\n",
       "      <th>3</th>\n",
       "      <td>b80344d063b5ccb3212f76538f3d9e43d87dca9e</td>\n",
       "      <td>SOBYHAJ12A6701BF1D</td>\n",
       "      <td>1</td>\n",
       "      <td>In Between Dreams</td>\n",
       "      <td>2005</td>\n",
       "      <td>Constellations-Jack Johnson</td>\n",
       "    </tr>\n",
       "    <tr>\n",
       "      <th>4</th>\n",
       "      <td>b80344d063b5ccb3212f76538f3d9e43d87dca9e</td>\n",
       "      <td>SODACBL12A8C13C273</td>\n",
       "      <td>1</td>\n",
       "      <td>There Is Nothing Left To Lose</td>\n",
       "      <td>1999</td>\n",
       "      <td>Learn To Fly-Foo Fighters</td>\n",
       "    </tr>\n",
       "  </tbody>\n",
       "</table>\n",
       "</div>"
      ],
      "text/plain": [
       "                                    user_id             song_id  listen_count  \\\n",
       "0  b80344d063b5ccb3212f76538f3d9e43d87dca9e  SOAKIMP12A8C130995             1   \n",
       "1  b80344d063b5ccb3212f76538f3d9e43d87dca9e  SOBBMDR12A8C13253B             2   \n",
       "2  b80344d063b5ccb3212f76538f3d9e43d87dca9e  SOBXHDL12A81C204C0             1   \n",
       "3  b80344d063b5ccb3212f76538f3d9e43d87dca9e  SOBYHAJ12A6701BF1D             1   \n",
       "4  b80344d063b5ccb3212f76538f3d9e43d87dca9e  SODACBL12A8C13C273             1   \n",
       "\n",
       "                         release  year                           song  \n",
       "0             Thicker Than Water     0          The Cove-Jack Johnson  \n",
       "1            Flamenco Para Niños  1976  Entre Dos Aguas-Paco De Lucia  \n",
       "2                     Graduation  2007            Stronger-Kanye West  \n",
       "3              In Between Dreams  2005    Constellations-Jack Johnson  \n",
       "4  There Is Nothing Left To Lose  1999      Learn To Fly-Foo Fighters  "
      ]
     },
     "execution_count": 6,
     "metadata": {},
     "output_type": "execute_result"
    }
   ],
   "source": [
    "del song_df['title']\n",
    "del song_df['artist_name']\n",
    "song_df.head()"
   ]
  },
  {
   "cell_type": "markdown",
   "metadata": {},
   "source": [
    "# Showing the most popular songs in the dataframe"
   ]
  },
  {
   "cell_type": "code",
   "execution_count": 7,
   "metadata": {},
   "outputs": [
    {
     "data": {
      "text/html": [
       "<div>\n",
       "<style>\n",
       "    .dataframe thead tr:only-child th {\n",
       "        text-align: right;\n",
       "    }\n",
       "\n",
       "    .dataframe thead th {\n",
       "        text-align: left;\n",
       "    }\n",
       "\n",
       "    .dataframe tbody tr th {\n",
       "        vertical-align: top;\n",
       "    }\n",
       "</style>\n",
       "<table border=\"1\" class=\"dataframe\">\n",
       "  <thead>\n",
       "    <tr style=\"text-align: right;\">\n",
       "      <th></th>\n",
       "      <th>song</th>\n",
       "      <th>listen_count</th>\n",
       "    </tr>\n",
       "  </thead>\n",
       "  <tbody>\n",
       "    <tr>\n",
       "      <th>0</th>\n",
       "      <td>#40-DAVE MATTHEWS BAND</td>\n",
       "      <td>1</td>\n",
       "    </tr>\n",
       "    <tr>\n",
       "      <th>1</th>\n",
       "      <td>&amp; Down-Boys Noize</td>\n",
       "      <td>4</td>\n",
       "    </tr>\n",
       "    <tr>\n",
       "      <th>2</th>\n",
       "      <td>'97 Bonnie &amp; Clyde-Eminem</td>\n",
       "      <td>2</td>\n",
       "    </tr>\n",
       "    <tr>\n",
       "      <th>3</th>\n",
       "      <td>'Round Midnight-Miles Davis</td>\n",
       "      <td>3</td>\n",
       "    </tr>\n",
       "    <tr>\n",
       "      <th>4</th>\n",
       "      <td>'Till I Collapse-Eminem / Nate Dogg</td>\n",
       "      <td>6</td>\n",
       "    </tr>\n",
       "  </tbody>\n",
       "</table>\n",
       "</div>"
      ],
      "text/plain": [
       "                                  song  listen_count\n",
       "0               #40-DAVE MATTHEWS BAND             1\n",
       "1                    & Down-Boys Noize             4\n",
       "2            '97 Bonnie & Clyde-Eminem             2\n",
       "3          'Round Midnight-Miles Davis             3\n",
       "4  'Till I Collapse-Eminem / Nate Dogg             6"
      ]
     },
     "execution_count": 7,
     "metadata": {},
     "output_type": "execute_result"
    }
   ],
   "source": [
    "song_grouped = song_df.groupby(['song']).agg({'listen_count' : 'count'}).reset_index()\n",
    "song_grouped.head()"
   ]
  },
  {
   "cell_type": "code",
   "execution_count": 8,
   "metadata": {},
   "outputs": [
    {
     "data": {
      "text/plain": [
       "10000"
      ]
     },
     "execution_count": 8,
     "metadata": {},
     "output_type": "execute_result"
    }
   ],
   "source": [
    "grouped_sum = song_grouped['listen_count'].sum()\n",
    "grouped_sum"
   ]
  },
  {
   "cell_type": "code",
   "execution_count": 9,
   "metadata": {},
   "outputs": [
    {
     "data": {
      "text/html": [
       "<div>\n",
       "<style>\n",
       "    .dataframe thead tr:only-child th {\n",
       "        text-align: right;\n",
       "    }\n",
       "\n",
       "    .dataframe thead th {\n",
       "        text-align: left;\n",
       "    }\n",
       "\n",
       "    .dataframe tbody tr th {\n",
       "        vertical-align: top;\n",
       "    }\n",
       "</style>\n",
       "<table border=\"1\" class=\"dataframe\">\n",
       "  <thead>\n",
       "    <tr style=\"text-align: right;\">\n",
       "      <th></th>\n",
       "      <th>song</th>\n",
       "      <th>listen_count</th>\n",
       "      <th>percentage</th>\n",
       "    </tr>\n",
       "  </thead>\n",
       "  <tbody>\n",
       "    <tr>\n",
       "      <th>0</th>\n",
       "      <td>#40-DAVE MATTHEWS BAND</td>\n",
       "      <td>1</td>\n",
       "      <td>0.01</td>\n",
       "    </tr>\n",
       "    <tr>\n",
       "      <th>1</th>\n",
       "      <td>&amp; Down-Boys Noize</td>\n",
       "      <td>4</td>\n",
       "      <td>0.04</td>\n",
       "    </tr>\n",
       "    <tr>\n",
       "      <th>2</th>\n",
       "      <td>'97 Bonnie &amp; Clyde-Eminem</td>\n",
       "      <td>2</td>\n",
       "      <td>0.02</td>\n",
       "    </tr>\n",
       "    <tr>\n",
       "      <th>3</th>\n",
       "      <td>'Round Midnight-Miles Davis</td>\n",
       "      <td>3</td>\n",
       "      <td>0.03</td>\n",
       "    </tr>\n",
       "    <tr>\n",
       "      <th>4</th>\n",
       "      <td>'Till I Collapse-Eminem / Nate Dogg</td>\n",
       "      <td>6</td>\n",
       "      <td>0.06</td>\n",
       "    </tr>\n",
       "  </tbody>\n",
       "</table>\n",
       "</div>"
      ],
      "text/plain": [
       "                                  song  listen_count  percentage\n",
       "0               #40-DAVE MATTHEWS BAND             1        0.01\n",
       "1                    & Down-Boys Noize             4        0.04\n",
       "2            '97 Bonnie & Clyde-Eminem             2        0.02\n",
       "3          'Round Midnight-Miles Davis             3        0.03\n",
       "4  'Till I Collapse-Eminem / Nate Dogg             6        0.06"
      ]
     },
     "execution_count": 9,
     "metadata": {},
     "output_type": "execute_result"
    }
   ],
   "source": [
    "song_grouped['percentage'] = song_grouped['listen_count'].div(grouped_sum)*100\n",
    "song_grouped.head()"
   ]
  },
  {
   "cell_type": "code",
   "execution_count": 10,
   "metadata": {},
   "outputs": [
    {
     "data": {
      "text/html": [
       "<div>\n",
       "<style>\n",
       "    .dataframe thead tr:only-child th {\n",
       "        text-align: right;\n",
       "    }\n",
       "\n",
       "    .dataframe thead th {\n",
       "        text-align: left;\n",
       "    }\n",
       "\n",
       "    .dataframe tbody tr th {\n",
       "        vertical-align: top;\n",
       "    }\n",
       "</style>\n",
       "<table border=\"1\" class=\"dataframe\">\n",
       "  <thead>\n",
       "    <tr style=\"text-align: right;\">\n",
       "      <th></th>\n",
       "      <th>song</th>\n",
       "      <th>listen_count</th>\n",
       "      <th>percentage</th>\n",
       "    </tr>\n",
       "  </thead>\n",
       "  <tbody>\n",
       "    <tr>\n",
       "      <th>3660</th>\n",
       "      <td>Sehr kosmisch-Harmonia</td>\n",
       "      <td>45</td>\n",
       "      <td>0.45</td>\n",
       "    </tr>\n",
       "    <tr>\n",
       "      <th>5105</th>\n",
       "      <td>You're The One-Dwight Yoakam</td>\n",
       "      <td>32</td>\n",
       "      <td>0.32</td>\n",
       "    </tr>\n",
       "    <tr>\n",
       "      <th>4678</th>\n",
       "      <td>Undo-Björk</td>\n",
       "      <td>32</td>\n",
       "      <td>0.32</td>\n",
       "    </tr>\n",
       "    <tr>\n",
       "      <th>3655</th>\n",
       "      <td>Secrets-OneRepublic</td>\n",
       "      <td>28</td>\n",
       "      <td>0.28</td>\n",
       "    </tr>\n",
       "    <tr>\n",
       "      <th>1071</th>\n",
       "      <td>Dog Days Are Over (Radio Edit)-Florence + The ...</td>\n",
       "      <td>28</td>\n",
       "      <td>0.28</td>\n",
       "    </tr>\n",
       "  </tbody>\n",
       "</table>\n",
       "</div>"
      ],
      "text/plain": [
       "                                                   song  listen_count  \\\n",
       "3660                             Sehr kosmisch-Harmonia            45   \n",
       "5105                       You're The One-Dwight Yoakam            32   \n",
       "4678                                         Undo-Björk            32   \n",
       "3655                                Secrets-OneRepublic            28   \n",
       "1071  Dog Days Are Over (Radio Edit)-Florence + The ...            28   \n",
       "\n",
       "      percentage  \n",
       "3660        0.45  \n",
       "5105        0.32  \n",
       "4678        0.32  \n",
       "3655        0.28  \n",
       "1071        0.28  "
      ]
     },
     "execution_count": 10,
     "metadata": {},
     "output_type": "execute_result"
    }
   ],
   "source": [
    "song_grouped.sort_values(['listen_count' , 'song'] , ascending = False  , inplace = True)\n",
    "song_grouped.head()\n"
   ]
  },
  {
   "cell_type": "markdown",
   "metadata": {},
   "source": [
    "# Count number of users in the dataframe(Unique Users)"
   ]
  },
  {
   "cell_type": "code",
   "execution_count": 11,
   "metadata": {},
   "outputs": [
    {
     "name": "stdout",
     "output_type": "stream",
     "text": [
      "['b80344d063b5ccb3212f76538f3d9e43d87dca9e'\n",
      " '85c1f87fea955d09b4bec2e36aee110927aedf9a'\n",
      " 'bd4c6e843f00bd476847fb75c47b4fb430a06856'\n",
      " '8937134734f869debcab8f23d77465b4caaa85df'\n",
      " '969cc6fb74e076a68e36a04409cb9d3765757508']\n",
      "365\n"
     ]
    }
   ],
   "source": [
    "users = song_df['user_id'].unique()  # Returns numpy ndarray \n",
    "print(users[:5])\n",
    "print(len(users))"
   ]
  },
  {
   "cell_type": "markdown",
   "metadata": {},
   "source": [
    "# Counting the number if unique songs in the dataframe"
   ]
  },
  {
   "cell_type": "code",
   "execution_count": 12,
   "metadata": {},
   "outputs": [
    {
     "name": "stdout",
     "output_type": "stream",
     "text": [
      "['The Cove-Jack Johnson' 'Entre Dos Aguas-Paco De Lucia'\n",
      " 'Stronger-Kanye West' 'Constellations-Jack Johnson'\n",
      " 'Learn To Fly-Foo Fighters']\n",
      "5151\n"
     ]
    }
   ],
   "source": [
    "unique_songs = song_df['song'].unique()\n",
    "print(unique_songs[:5])\n",
    "print(len(unique_songs))"
   ]
  },
  {
   "cell_type": "markdown",
   "metadata": {},
   "source": [
    "# Creating a song recommender"
   ]
  },
  {
   "cell_type": "code",
   "execution_count": 13,
   "metadata": {},
   "outputs": [
    {
     "data": {
      "text/html": [
       "<div>\n",
       "<style>\n",
       "    .dataframe thead tr:only-child th {\n",
       "        text-align: right;\n",
       "    }\n",
       "\n",
       "    .dataframe thead th {\n",
       "        text-align: left;\n",
       "    }\n",
       "\n",
       "    .dataframe tbody tr th {\n",
       "        vertical-align: top;\n",
       "    }\n",
       "</style>\n",
       "<table border=\"1\" class=\"dataframe\">\n",
       "  <thead>\n",
       "    <tr style=\"text-align: right;\">\n",
       "      <th></th>\n",
       "      <th>user_id</th>\n",
       "      <th>song_id</th>\n",
       "      <th>listen_count</th>\n",
       "      <th>release</th>\n",
       "      <th>year</th>\n",
       "      <th>song</th>\n",
       "    </tr>\n",
       "  </thead>\n",
       "  <tbody>\n",
       "    <tr>\n",
       "      <th>6768</th>\n",
       "      <td>e3937c7c32f5b68422808a854a4a7a824ee448a5</td>\n",
       "      <td>SOYOHMP12A6D4F6244</td>\n",
       "      <td>1</td>\n",
       "      <td>Mary Ann meets the Gravediggers and other shor...</td>\n",
       "      <td>2002</td>\n",
       "      <td>Daniel Cowman-Regina Spektor</td>\n",
       "    </tr>\n",
       "    <tr>\n",
       "      <th>779</th>\n",
       "      <td>baf47ed8da24d607e50d8684cde78b923538640f</td>\n",
       "      <td>SOCDXUG12B0B8064EA</td>\n",
       "      <td>1</td>\n",
       "      <td>Parklife</td>\n",
       "      <td>1994</td>\n",
       "      <td>End Of A Century-Blur</td>\n",
       "    </tr>\n",
       "    <tr>\n",
       "      <th>4277</th>\n",
       "      <td>8dcb524ff75e0ad0f0a80aaccadf7bbaa3b89a41</td>\n",
       "      <td>SOLVMXY12A8C131E36</td>\n",
       "      <td>1</td>\n",
       "      <td>Idealism</td>\n",
       "      <td>2007</td>\n",
       "      <td>Moonlight-Digitalism</td>\n",
       "    </tr>\n",
       "    <tr>\n",
       "      <th>1507</th>\n",
       "      <td>484b69dd013df1ec0cfd504886d4f647cb32b08f</td>\n",
       "      <td>SOCXCTS12AC468A380</td>\n",
       "      <td>1</td>\n",
       "      <td>Various Artists/Rough Trade Counter Culture 09</td>\n",
       "      <td>2009</td>\n",
       "      <td>Basic Space-The xx</td>\n",
       "    </tr>\n",
       "    <tr>\n",
       "      <th>3776</th>\n",
       "      <td>884209a41deb55df792f074bccf8af1c1c31768b</td>\n",
       "      <td>SOCXMRE12AB018AE72</td>\n",
       "      <td>3</td>\n",
       "      <td>Crystal Castles ( II )</td>\n",
       "      <td>2010</td>\n",
       "      <td>Baptism-Crystal Castles</td>\n",
       "    </tr>\n",
       "  </tbody>\n",
       "</table>\n",
       "</div>"
      ],
      "text/plain": [
       "                                       user_id             song_id  \\\n",
       "6768  e3937c7c32f5b68422808a854a4a7a824ee448a5  SOYOHMP12A6D4F6244   \n",
       "779   baf47ed8da24d607e50d8684cde78b923538640f  SOCDXUG12B0B8064EA   \n",
       "4277  8dcb524ff75e0ad0f0a80aaccadf7bbaa3b89a41  SOLVMXY12A8C131E36   \n",
       "1507  484b69dd013df1ec0cfd504886d4f647cb32b08f  SOCXCTS12AC468A380   \n",
       "3776  884209a41deb55df792f074bccf8af1c1c31768b  SOCXMRE12AB018AE72   \n",
       "\n",
       "      listen_count                                            release  year  \\\n",
       "6768             1  Mary Ann meets the Gravediggers and other shor...  2002   \n",
       "779              1                                           Parklife  1994   \n",
       "4277             1                                           Idealism  2007   \n",
       "1507             1     Various Artists/Rough Trade Counter Culture 09  2009   \n",
       "3776             3                             Crystal Castles ( II )  2010   \n",
       "\n",
       "                              song  \n",
       "6768  Daniel Cowman-Regina Spektor  \n",
       "779          End Of A Century-Blur  \n",
       "4277          Moonlight-Digitalism  \n",
       "1507            Basic Space-The xx  \n",
       "3776       Baptism-Crystal Castles  "
      ]
     },
     "execution_count": 13,
     "metadata": {},
     "output_type": "execute_result"
    }
   ],
   "source": [
    "train_data , test_data = train_test_split(song_df , test_size = 0.02 , random_state = 0)\n",
    "train_data.head(5)"
   ]
  },
  {
   "cell_type": "code",
   "execution_count": 14,
   "metadata": {},
   "outputs": [
    {
     "data": {
      "text/html": [
       "<div>\n",
       "<style>\n",
       "    .dataframe thead tr:only-child th {\n",
       "        text-align: right;\n",
       "    }\n",
       "\n",
       "    .dataframe thead th {\n",
       "        text-align: left;\n",
       "    }\n",
       "\n",
       "    .dataframe tbody tr th {\n",
       "        vertical-align: top;\n",
       "    }\n",
       "</style>\n",
       "<table border=\"1\" class=\"dataframe\">\n",
       "  <thead>\n",
       "    <tr style=\"text-align: right;\">\n",
       "      <th></th>\n",
       "      <th>user_id</th>\n",
       "      <th>song_id</th>\n",
       "      <th>listen_count</th>\n",
       "      <th>release</th>\n",
       "      <th>year</th>\n",
       "      <th>song</th>\n",
       "    </tr>\n",
       "  </thead>\n",
       "  <tbody>\n",
       "    <tr>\n",
       "      <th>9394</th>\n",
       "      <td>97e48f0f188e04dcdb0f8e20a29dacb881d80c9e</td>\n",
       "      <td>SOLCAXX12B0B8079A5</td>\n",
       "      <td>1</td>\n",
       "      <td>Rabbit Habits</td>\n",
       "      <td>2008</td>\n",
       "      <td>Mister Jung Stuffed-Man Man</td>\n",
       "    </tr>\n",
       "    <tr>\n",
       "      <th>898</th>\n",
       "      <td>a820d2d4f16bbd53be9e41e0417dfb234bfdfba8</td>\n",
       "      <td>SOHMTUC12A58A799D4</td>\n",
       "      <td>2</td>\n",
       "      <td>Cunning Stunts</td>\n",
       "      <td>1992</td>\n",
       "      <td>Ort-Cows</td>\n",
       "    </tr>\n",
       "    <tr>\n",
       "      <th>2398</th>\n",
       "      <td>01655ae6bc52e29c9cd100a7dde4e9eeae5e4031</td>\n",
       "      <td>SOEUTXF12A6D4FC6F8</td>\n",
       "      <td>2</td>\n",
       "      <td>Muriendo de Amor</td>\n",
       "      <td>0</td>\n",
       "      <td>Suena tu guitarra-Fernando Soto</td>\n",
       "    </tr>\n",
       "    <tr>\n",
       "      <th>5906</th>\n",
       "      <td>806ccae96c8ecb1c198482aff785ccd6bbe17143</td>\n",
       "      <td>SOIBSSJ12A8151E066</td>\n",
       "      <td>1</td>\n",
       "      <td>3 Doors Down</td>\n",
       "      <td>2008</td>\n",
       "      <td>Let Me Be Myself-3 Doors Down</td>\n",
       "    </tr>\n",
       "    <tr>\n",
       "      <th>2343</th>\n",
       "      <td>8cbb5066924ec788e3fea9a4aae59586f46f38fa</td>\n",
       "      <td>SOPPROJ12AB0184E18</td>\n",
       "      <td>1</td>\n",
       "      <td>Pursuit Of Happiness</td>\n",
       "      <td>2010</td>\n",
       "      <td>Pursuit Of Happiness (nightmare)-Kid Cudi / MG...</td>\n",
       "    </tr>\n",
       "  </tbody>\n",
       "</table>\n",
       "</div>"
      ],
      "text/plain": [
       "                                       user_id             song_id  \\\n",
       "9394  97e48f0f188e04dcdb0f8e20a29dacb881d80c9e  SOLCAXX12B0B8079A5   \n",
       "898   a820d2d4f16bbd53be9e41e0417dfb234bfdfba8  SOHMTUC12A58A799D4   \n",
       "2398  01655ae6bc52e29c9cd100a7dde4e9eeae5e4031  SOEUTXF12A6D4FC6F8   \n",
       "5906  806ccae96c8ecb1c198482aff785ccd6bbe17143  SOIBSSJ12A8151E066   \n",
       "2343  8cbb5066924ec788e3fea9a4aae59586f46f38fa  SOPPROJ12AB0184E18   \n",
       "\n",
       "      listen_count               release  year  \\\n",
       "9394             1         Rabbit Habits  2008   \n",
       "898              2        Cunning Stunts  1992   \n",
       "2398             2      Muriendo de Amor     0   \n",
       "5906             1          3 Doors Down  2008   \n",
       "2343             1  Pursuit Of Happiness  2010   \n",
       "\n",
       "                                                   song  \n",
       "9394                        Mister Jung Stuffed-Man Man  \n",
       "898                                            Ort-Cows  \n",
       "2398                    Suena tu guitarra-Fernando Soto  \n",
       "5906                      Let Me Be Myself-3 Doors Down  \n",
       "2343  Pursuit Of Happiness (nightmare)-Kid Cudi / MG...  "
      ]
     },
     "execution_count": 14,
     "metadata": {},
     "output_type": "execute_result"
    }
   ],
   "source": [
    "test_data.head()"
   ]
  },
  {
   "cell_type": "markdown",
   "metadata": {},
   "source": [
    "# Popularity Based Recommeder Systems"
   ]
  },
  {
   "cell_type": "markdown",
   "metadata": {},
   "source": [
    "### Creating instance of popularity based recommender class"
   ]
  },
  {
   "cell_type": "code",
   "execution_count": 15,
   "metadata": {
    "collapsed": true
   },
   "outputs": [],
   "source": [
    "pr = Recommenders.popularity_recommender_py()\n",
    "pr.create(train_data , 'user_id' , 'song') "
   ]
  },
  {
   "cell_type": "markdown",
   "metadata": {},
   "source": [
    "### Using the popularity model to make some predictions"
   ]
  },
  {
   "cell_type": "code",
   "execution_count": 16,
   "metadata": {
    "collapsed": true
   },
   "outputs": [],
   "source": [
    "#test_user = test_data.loc[ 114563 , 'user_id'] \n",
    "#Picking up user_id of any index in the test_data and predicting for test_user\n",
    "#print(test_user)\n",
    "#pr.recommend(test_user)"
   ]
  },
  {
   "cell_type": "code",
   "execution_count": 17,
   "metadata": {},
   "outputs": [
    {
     "data": {
      "text/html": [
       "<div>\n",
       "<style>\n",
       "    .dataframe thead tr:only-child th {\n",
       "        text-align: right;\n",
       "    }\n",
       "\n",
       "    .dataframe thead th {\n",
       "        text-align: left;\n",
       "    }\n",
       "\n",
       "    .dataframe tbody tr th {\n",
       "        vertical-align: top;\n",
       "    }\n",
       "</style>\n",
       "<table border=\"1\" class=\"dataframe\">\n",
       "  <thead>\n",
       "    <tr style=\"text-align: right;\">\n",
       "      <th></th>\n",
       "      <th>user_id</th>\n",
       "      <th>song</th>\n",
       "      <th>score</th>\n",
       "      <th>Rank</th>\n",
       "    </tr>\n",
       "  </thead>\n",
       "  <tbody>\n",
       "    <tr>\n",
       "      <th>3622</th>\n",
       "      <td>17aa9f6dbdf753831da8f38c71b66b64373de613</td>\n",
       "      <td>Sehr kosmisch-Harmonia</td>\n",
       "      <td>45</td>\n",
       "      <td>1.0</td>\n",
       "    </tr>\n",
       "    <tr>\n",
       "      <th>5044</th>\n",
       "      <td>17aa9f6dbdf753831da8f38c71b66b64373de613</td>\n",
       "      <td>You're The One-Dwight Yoakam</td>\n",
       "      <td>32</td>\n",
       "      <td>2.0</td>\n",
       "    </tr>\n",
       "    <tr>\n",
       "      <th>4624</th>\n",
       "      <td>17aa9f6dbdf753831da8f38c71b66b64373de613</td>\n",
       "      <td>Undo-Björk</td>\n",
       "      <td>30</td>\n",
       "      <td>3.0</td>\n",
       "    </tr>\n",
       "    <tr>\n",
       "      <th>1063</th>\n",
       "      <td>17aa9f6dbdf753831da8f38c71b66b64373de613</td>\n",
       "      <td>Dog Days Are Over (Radio Edit)-Florence + The ...</td>\n",
       "      <td>28</td>\n",
       "      <td>4.0</td>\n",
       "    </tr>\n",
       "    <tr>\n",
       "      <th>3617</th>\n",
       "      <td>17aa9f6dbdf753831da8f38c71b66b64373de613</td>\n",
       "      <td>Secrets-OneRepublic</td>\n",
       "      <td>27</td>\n",
       "      <td>5.0</td>\n",
       "    </tr>\n",
       "    <tr>\n",
       "      <th>4658</th>\n",
       "      <td>17aa9f6dbdf753831da8f38c71b66b64373de613</td>\n",
       "      <td>Use Somebody-Kings Of Leon</td>\n",
       "      <td>26</td>\n",
       "      <td>6.0</td>\n",
       "    </tr>\n",
       "    <tr>\n",
       "      <th>4327</th>\n",
       "      <td>17aa9f6dbdf753831da8f38c71b66b64373de613</td>\n",
       "      <td>The Scientist-Coldplay</td>\n",
       "      <td>26</td>\n",
       "      <td>7.0</td>\n",
       "    </tr>\n",
       "    <tr>\n",
       "      <th>3440</th>\n",
       "      <td>17aa9f6dbdf753831da8f38c71b66b64373de613</td>\n",
       "      <td>Revelry-Kings Of Leon</td>\n",
       "      <td>24</td>\n",
       "      <td>8.0</td>\n",
       "    </tr>\n",
       "    <tr>\n",
       "      <th>1374</th>\n",
       "      <td>17aa9f6dbdf753831da8f38c71b66b64373de613</td>\n",
       "      <td>Fireflies-Charttraxx Karaoke</td>\n",
       "      <td>24</td>\n",
       "      <td>9.0</td>\n",
       "    </tr>\n",
       "    <tr>\n",
       "      <th>1844</th>\n",
       "      <td>17aa9f6dbdf753831da8f38c71b66b64373de613</td>\n",
       "      <td>Horn Concerto No. 4 in E flat K495: II. Romanc...</td>\n",
       "      <td>23</td>\n",
       "      <td>10.0</td>\n",
       "    </tr>\n",
       "  </tbody>\n",
       "</table>\n",
       "</div>"
      ],
      "text/plain": [
       "                                       user_id  \\\n",
       "3622  17aa9f6dbdf753831da8f38c71b66b64373de613   \n",
       "5044  17aa9f6dbdf753831da8f38c71b66b64373de613   \n",
       "4624  17aa9f6dbdf753831da8f38c71b66b64373de613   \n",
       "1063  17aa9f6dbdf753831da8f38c71b66b64373de613   \n",
       "3617  17aa9f6dbdf753831da8f38c71b66b64373de613   \n",
       "4658  17aa9f6dbdf753831da8f38c71b66b64373de613   \n",
       "4327  17aa9f6dbdf753831da8f38c71b66b64373de613   \n",
       "3440  17aa9f6dbdf753831da8f38c71b66b64373de613   \n",
       "1374  17aa9f6dbdf753831da8f38c71b66b64373de613   \n",
       "1844  17aa9f6dbdf753831da8f38c71b66b64373de613   \n",
       "\n",
       "                                                   song  score  Rank  \n",
       "3622                             Sehr kosmisch-Harmonia     45   1.0  \n",
       "5044                       You're The One-Dwight Yoakam     32   2.0  \n",
       "4624                                         Undo-Björk     30   3.0  \n",
       "1063  Dog Days Are Over (Radio Edit)-Florence + The ...     28   4.0  \n",
       "3617                                Secrets-OneRepublic     27   5.0  \n",
       "4658                         Use Somebody-Kings Of Leon     26   6.0  \n",
       "4327                             The Scientist-Coldplay     26   7.0  \n",
       "3440                              Revelry-Kings Of Leon     24   8.0  \n",
       "1374                       Fireflies-Charttraxx Karaoke     24   9.0  \n",
       "1844  Horn Concerto No. 4 in E flat K495: II. Romanc...     23  10.0  "
      ]
     },
     "execution_count": 17,
     "metadata": {},
     "output_type": "execute_result"
    }
   ],
   "source": [
    "test_user2 = users[10]\n",
    "pr.recommend(test_user2)"
   ]
  },
  {
   "cell_type": "raw",
   "metadata": {},
   "source": [
    "Since it is a popularity based recommender system, we can see here that for both the test users same list of items appear as they are the most popular."
   ]
  },
  {
   "cell_type": "markdown",
   "metadata": {},
   "source": [
    "# Building a personalized Song Recommender"
   ]
  },
  {
   "cell_type": "markdown",
   "metadata": {},
   "source": [
    "We now build an item-similarity based collaborative filtering model recommender system to give more personalised recommendations."
   ]
  },
  {
   "cell_type": "markdown",
   "metadata": {},
   "source": [
    "### Creating an instance of the item-similarity based recommender system class"
   ]
  },
  {
   "cell_type": "code",
   "execution_count": 18,
   "metadata": {
    "collapsed": true
   },
   "outputs": [],
   "source": [
    "is_model = Recommenders.item_similarity_recommender_py()\n",
    "is_model.create(train_data , 'user_id' , 'song') #training our model for the training data"
   ]
  },
  {
   "cell_type": "markdown",
   "metadata": {},
   "source": [
    "### Using Personalised model to make some recommendations"
   ]
  },
  {
   "cell_type": "code",
   "execution_count": 19,
   "metadata": {},
   "outputs": [
    {
     "name": "stdout",
     "output_type": "stream",
     "text": [
      "-------------------------------------------------------------------------------------------------------------\n",
      "Training data songs for the user with user_id = 4bd88bfb25263a75bbdd467e74018f4ae570e5df\n",
      "-------------------------------------------------------------------------------------------------------------\n",
      "Without Me-Eminem\n",
      "Missing You-John Waite\n",
      "Ya Nada Queda-Kudai\n",
      "16 Candles-The Crests\n",
      "My Dad's Gone Crazy-Eminem / Hailie Jade\n",
      "Speechless-Lady GaGa\n",
      "Push It-Salt-N-Pepa\n",
      "Ghosts 'n' Stuff (Original Instrumental Mix)-Deadmau5\n",
      "The Real Slim Shady-Eminem\n",
      "Forgive Me-Leona Lewis\n",
      "Just Lose It-Eminem\n",
      "Somebody To Love-Justin Bieber\n",
      "Say My Name-Destiny's Child\n",
      "-------------------------------------------------------------------------------------------------------------\n",
      "Recommendation Process\n",
      "-------------------------------------------------------------------------------------------------------------\n",
      "Number of unique songs for the user: 13\n",
      "Number of unique songs in the training set: 5089\n"
     ]
    },
    {
     "ename": "TypeError",
     "evalue": "'set' object does not support indexing",
     "output_type": "error",
     "traceback": [
      "\u001b[0;31m---------------------------------------------------------------------------\u001b[0m",
      "\u001b[0;31mTypeError\u001b[0m                                 Traceback (most recent call last)",
      "\u001b[0;32m<ipython-input-19-8c2bcd20429b>\u001b[0m in \u001b[0;36m<module>\u001b[0;34m()\u001b[0m\n\u001b[1;32m     14\u001b[0m \u001b[0mprint\u001b[0m\u001b[0;34m(\u001b[0m\u001b[0;34m\"-------------------------------------------------------------------------------------------------------------\"\u001b[0m\u001b[0;34m)\u001b[0m\u001b[0;34m\u001b[0m\u001b[0m\n\u001b[1;32m     15\u001b[0m \u001b[0;34m\u001b[0m\u001b[0m\n\u001b[0;32m---> 16\u001b[0;31m \u001b[0mis_model\u001b[0m\u001b[0;34m.\u001b[0m\u001b[0mrecommend\u001b[0m\u001b[0;34m(\u001b[0m\u001b[0muser_id\u001b[0m\u001b[0;34m)\u001b[0m\u001b[0;34m\u001b[0m\u001b[0m\n\u001b[0m",
      "\u001b[0;32m/Users/melon/anaconda3/RecommederSystem/Recommenders.py\u001b[0m in \u001b[0;36mrecommend\u001b[0;34m(self, user)\u001b[0m\n\u001b[1;32m    203\u001b[0m \u001b[0;34m\u001b[0m\u001b[0m\n\u001b[1;32m    204\u001b[0m         \u001b[0;31m# 3. Construct item cooccurence matrix of size len(user_songs) X len(songs)\u001b[0m\u001b[0;34m\u001b[0m\u001b[0;34m\u001b[0m\u001b[0m\n\u001b[0;32m--> 205\u001b[0;31m         \u001b[0mcooccurence_matrix\u001b[0m \u001b[0;34m=\u001b[0m \u001b[0mself\u001b[0m\u001b[0;34m.\u001b[0m\u001b[0mconstruct_cooccurence_matrix\u001b[0m\u001b[0;34m(\u001b[0m\u001b[0muser_songs\u001b[0m \u001b[0;34m,\u001b[0m \u001b[0mall_songs\u001b[0m\u001b[0;34m)\u001b[0m\u001b[0;34m\u001b[0m\u001b[0m\n\u001b[0m\u001b[1;32m    206\u001b[0m \u001b[0;34m\u001b[0m\u001b[0m\n\u001b[1;32m    207\u001b[0m         \u001b[0;31m# 4. Use the cooccurence_matrix to make recommedations\u001b[0m\u001b[0;34m\u001b[0m\u001b[0;34m\u001b[0m\u001b[0m\n",
      "\u001b[0;32m/Users/melon/anaconda3/RecommederSystem/Recommenders.py\u001b[0m in \u001b[0;36mconstruct_cooccurence_matrix\u001b[0;34m(self, user_songs, all_songs)\u001b[0m\n\u001b[1;32m    101\u001b[0m         \u001b[0muser_songs_users\u001b[0m \u001b[0;34m=\u001b[0m\u001b[0;34m[\u001b[0m\u001b[0;34m]\u001b[0m\u001b[0;34m\u001b[0m\u001b[0m\n\u001b[1;32m    102\u001b[0m         \u001b[0;32mfor\u001b[0m \u001b[0mi\u001b[0m \u001b[0;32min\u001b[0m \u001b[0mrange\u001b[0m\u001b[0;34m(\u001b[0m\u001b[0mlen\u001b[0m\u001b[0;34m(\u001b[0m\u001b[0muser_songs\u001b[0m\u001b[0;34m)\u001b[0m\u001b[0;34m)\u001b[0m\u001b[0;34m:\u001b[0m\u001b[0;34m\u001b[0m\u001b[0m\n\u001b[0;32m--> 103\u001b[0;31m             \u001b[0muser_songs_users\u001b[0m\u001b[0;34m.\u001b[0m\u001b[0mappend\u001b[0m\u001b[0;34m(\u001b[0m\u001b[0mself\u001b[0m\u001b[0;34m.\u001b[0m\u001b[0mget_item_users\u001b[0m\u001b[0;34m(\u001b[0m\u001b[0mlist\u001b[0m\u001b[0;34m(\u001b[0m\u001b[0muser_songs\u001b[0m\u001b[0;34m[\u001b[0m\u001b[0mi\u001b[0m\u001b[0;34m]\u001b[0m\u001b[0;34m)\u001b[0m\u001b[0;34m)\u001b[0m\u001b[0;34m)\u001b[0m\u001b[0;34m\u001b[0m\u001b[0m\n\u001b[0m\u001b[1;32m    104\u001b[0m             \u001b[0;31m# a list with number of rows = len(user_songs) or number of songs user has heard and\u001b[0m\u001b[0;34m\u001b[0m\u001b[0;34m\u001b[0m\u001b[0m\n\u001b[1;32m    105\u001b[0m             \u001b[0;31m#for each song we will have a list of users who have heard that song\u001b[0m\u001b[0;34m\u001b[0m\u001b[0;34m\u001b[0m\u001b[0m\n",
      "\u001b[0;31mTypeError\u001b[0m: 'set' object does not support indexing"
     ]
    }
   ],
   "source": [
    "#print the songs for the user in tha training data\n",
    "user_id = users[5]\n",
    "user_items = is_model.get_user_items(user_id)\n",
    "\n",
    "print(\"-------------------------------------------------------------------------------------------------------------\")\n",
    "print(\"Training data songs for the user with user_id = %s\" %user_id)\n",
    "print(\"-------------------------------------------------------------------------------------------------------------\")\n",
    "\n",
    "for item in user_items:\n",
    "    print(item)\n",
    "    \n",
    "print(\"-------------------------------------------------------------------------------------------------------------\")\n",
    "print(\"Recommendation Process\")\n",
    "print(\"-------------------------------------------------------------------------------------------------------------\") \n",
    "\n",
    "is_model.recommend(user_id)"
   ]
  },
  {
   "cell_type": "markdown",
   "metadata": {},
   "source": [
    "### We can also apply the same model to get similar songs to any other song in the dataframe"
   ]
  },
  {
   "cell_type": "code",
   "execution_count": 20,
   "metadata": {},
   "outputs": [
    {
     "name": "stdout",
     "output_type": "stream",
     "text": [
      "Number of unique songs in the training set: 5089\n"
     ]
    },
    {
     "ename": "ValueError",
     "evalue": "Arrays were different lengths: 9800 vs 21",
     "output_type": "error",
     "traceback": [
      "\u001b[0;31m---------------------------------------------------------------------------\u001b[0m",
      "\u001b[0;31mValueError\u001b[0m                                Traceback (most recent call last)",
      "\u001b[0;32m<ipython-input-20-0932b0210ea0>\u001b[0m in \u001b[0;36m<module>\u001b[0;34m()\u001b[0m\n\u001b[0;32m----> 1\u001b[0;31m \u001b[0mis_model\u001b[0m\u001b[0;34m.\u001b[0m\u001b[0mget_similar_items\u001b[0m\u001b[0;34m(\u001b[0m\u001b[0;34m[\u001b[0m\u001b[0;34m'U Smile-Justin Bieber'\u001b[0m\u001b[0;34m]\u001b[0m\u001b[0;34m)\u001b[0m\u001b[0;34m\u001b[0m\u001b[0m\n\u001b[0m",
      "\u001b[0;32m/Users/melon/anaconda3/RecommederSystem/Recommenders.py\u001b[0m in \u001b[0;36mget_similar_items\u001b[0;34m(self, item_list)\u001b[0m\n\u001b[1;32m    221\u001b[0m \u001b[0;34m\u001b[0m\u001b[0m\n\u001b[1;32m    222\u001b[0m \u001b[0;34m\u001b[0m\u001b[0m\n\u001b[0;32m--> 223\u001b[0;31m         \u001b[0mcooccurence_matrix\u001b[0m \u001b[0;34m=\u001b[0m \u001b[0mself\u001b[0m\u001b[0;34m.\u001b[0m\u001b[0mconstruct_cooccurence_matrix\u001b[0m\u001b[0;34m(\u001b[0m\u001b[0muser_songs\u001b[0m \u001b[0;34m,\u001b[0m \u001b[0mall_songs\u001b[0m\u001b[0;34m)\u001b[0m\u001b[0;34m\u001b[0m\u001b[0m\n\u001b[0m\u001b[1;32m    224\u001b[0m \u001b[0;34m\u001b[0m\u001b[0m\n\u001b[1;32m    225\u001b[0m         \u001b[0muser\u001b[0m \u001b[0;34m=\u001b[0m \u001b[0;34m\" \"\u001b[0m \u001b[0;31m#as we are trying to find songs similar to given song, there is no need of the user_column\u001b[0m\u001b[0;34m\u001b[0m\u001b[0m\n",
      "\u001b[0;32m/Users/melon/anaconda3/RecommederSystem/Recommenders.py\u001b[0m in \u001b[0;36mconstruct_cooccurence_matrix\u001b[0;34m(self, user_songs, all_songs)\u001b[0m\n\u001b[1;32m    101\u001b[0m         \u001b[0muser_songs_users\u001b[0m \u001b[0;34m=\u001b[0m\u001b[0;34m[\u001b[0m\u001b[0;34m]\u001b[0m\u001b[0;34m\u001b[0m\u001b[0m\n\u001b[1;32m    102\u001b[0m         \u001b[0;32mfor\u001b[0m \u001b[0mi\u001b[0m \u001b[0;32min\u001b[0m \u001b[0mrange\u001b[0m\u001b[0;34m(\u001b[0m\u001b[0mlen\u001b[0m\u001b[0;34m(\u001b[0m\u001b[0muser_songs\u001b[0m\u001b[0;34m)\u001b[0m\u001b[0;34m)\u001b[0m\u001b[0;34m:\u001b[0m\u001b[0;34m\u001b[0m\u001b[0m\n\u001b[0;32m--> 103\u001b[0;31m             \u001b[0muser_songs_users\u001b[0m\u001b[0;34m.\u001b[0m\u001b[0mappend\u001b[0m\u001b[0;34m(\u001b[0m\u001b[0mself\u001b[0m\u001b[0;34m.\u001b[0m\u001b[0mget_item_users\u001b[0m\u001b[0;34m(\u001b[0m\u001b[0mlist\u001b[0m\u001b[0;34m(\u001b[0m\u001b[0muser_songs\u001b[0m\u001b[0;34m[\u001b[0m\u001b[0mi\u001b[0m\u001b[0;34m]\u001b[0m\u001b[0;34m)\u001b[0m\u001b[0;34m)\u001b[0m\u001b[0;34m)\u001b[0m\u001b[0;34m\u001b[0m\u001b[0m\n\u001b[0m\u001b[1;32m    104\u001b[0m             \u001b[0;31m# a list with number of rows = len(user_songs) or number of songs user has heard and\u001b[0m\u001b[0;34m\u001b[0m\u001b[0;34m\u001b[0m\u001b[0m\n\u001b[1;32m    105\u001b[0m             \u001b[0;31m#for each song we will have a list of users who have heard that song\u001b[0m\u001b[0;34m\u001b[0m\u001b[0;34m\u001b[0m\u001b[0m\n",
      "\u001b[0;32m/Users/melon/anaconda3/RecommederSystem/Recommenders.py\u001b[0m in \u001b[0;36mget_item_users\u001b[0;34m(self, item)\u001b[0m\n\u001b[1;32m     79\u001b[0m     \u001b[0;31m#Get list of unique users for a given item(songs)\u001b[0m\u001b[0;34m\u001b[0m\u001b[0;34m\u001b[0m\u001b[0m\n\u001b[1;32m     80\u001b[0m     \u001b[0;32mdef\u001b[0m \u001b[0mget_item_users\u001b[0m\u001b[0;34m(\u001b[0m\u001b[0mself\u001b[0m \u001b[0;34m,\u001b[0m \u001b[0mitem\u001b[0m\u001b[0;34m)\u001b[0m\u001b[0;34m:\u001b[0m\u001b[0;34m\u001b[0m\u001b[0m\n\u001b[0;32m---> 81\u001b[0;31m         \u001b[0mitem_data\u001b[0m \u001b[0;34m=\u001b[0m \u001b[0mself\u001b[0m\u001b[0;34m.\u001b[0m\u001b[0mtrain_data\u001b[0m\u001b[0;34m[\u001b[0m\u001b[0mself\u001b[0m\u001b[0;34m.\u001b[0m\u001b[0mtrain_data\u001b[0m\u001b[0;34m[\u001b[0m\u001b[0mself\u001b[0m\u001b[0;34m.\u001b[0m\u001b[0mitem_id\u001b[0m\u001b[0;34m]\u001b[0m \u001b[0;34m==\u001b[0m \u001b[0mitem\u001b[0m \u001b[0;34m]\u001b[0m \u001b[0;31m#Extracting all the data for a given song\u001b[0m\u001b[0;34m\u001b[0m\u001b[0m\n\u001b[0m\u001b[1;32m     82\u001b[0m         \u001b[0mitem_users\u001b[0m \u001b[0;34m=\u001b[0m \u001b[0mlist\u001b[0m\u001b[0;34m(\u001b[0m\u001b[0mitem_data\u001b[0m\u001b[0;34m[\u001b[0m\u001b[0mself\u001b[0m\u001b[0;34m.\u001b[0m\u001b[0muser_id\u001b[0m\u001b[0;34m]\u001b[0m\u001b[0;34m.\u001b[0m\u001b[0munique\u001b[0m\u001b[0;34m(\u001b[0m\u001b[0;34m)\u001b[0m\u001b[0;34m)\u001b[0m \u001b[0;31m#Extracting all the unique users\u001b[0m\u001b[0;34m\u001b[0m\u001b[0m\n\u001b[1;32m     83\u001b[0m \u001b[0;34m\u001b[0m\u001b[0m\n",
      "\u001b[0;32m/Users/melon/anaconda3/lib/python3.6/site-packages/pandas/core/ops.py\u001b[0m in \u001b[0;36mwrapper\u001b[0;34m(self, other, axis)\u001b[0m\n\u001b[1;32m    859\u001b[0m \u001b[0;34m\u001b[0m\u001b[0m\n\u001b[1;32m    860\u001b[0m             \u001b[0;32mwith\u001b[0m \u001b[0mnp\u001b[0m\u001b[0;34m.\u001b[0m\u001b[0merrstate\u001b[0m\u001b[0;34m(\u001b[0m\u001b[0mall\u001b[0m\u001b[0;34m=\u001b[0m\u001b[0;34m'ignore'\u001b[0m\u001b[0;34m)\u001b[0m\u001b[0;34m:\u001b[0m\u001b[0;34m\u001b[0m\u001b[0m\n\u001b[0;32m--> 861\u001b[0;31m                 \u001b[0mres\u001b[0m \u001b[0;34m=\u001b[0m \u001b[0mna_op\u001b[0m\u001b[0;34m(\u001b[0m\u001b[0mvalues\u001b[0m\u001b[0;34m,\u001b[0m \u001b[0mother\u001b[0m\u001b[0;34m)\u001b[0m\u001b[0;34m\u001b[0m\u001b[0m\n\u001b[0m\u001b[1;32m    862\u001b[0m             \u001b[0;32mif\u001b[0m \u001b[0mis_scalar\u001b[0m\u001b[0;34m(\u001b[0m\u001b[0mres\u001b[0m\u001b[0;34m)\u001b[0m\u001b[0;34m:\u001b[0m\u001b[0;34m\u001b[0m\u001b[0m\n\u001b[1;32m    863\u001b[0m                 raise TypeError('Could not compare %s type with Series' %\n",
      "\u001b[0;32m/Users/melon/anaconda3/lib/python3.6/site-packages/pandas/core/ops.py\u001b[0m in \u001b[0;36mna_op\u001b[0;34m(x, y)\u001b[0m\n\u001b[1;32m    763\u001b[0m \u001b[0;34m\u001b[0m\u001b[0m\n\u001b[1;32m    764\u001b[0m         \u001b[0;32mif\u001b[0m \u001b[0mis_object_dtype\u001b[0m\u001b[0;34m(\u001b[0m\u001b[0mx\u001b[0m\u001b[0;34m.\u001b[0m\u001b[0mdtype\u001b[0m\u001b[0;34m)\u001b[0m\u001b[0;34m:\u001b[0m\u001b[0;34m\u001b[0m\u001b[0m\n\u001b[0;32m--> 765\u001b[0;31m             \u001b[0mresult\u001b[0m \u001b[0;34m=\u001b[0m \u001b[0m_comp_method_OBJECT_ARRAY\u001b[0m\u001b[0;34m(\u001b[0m\u001b[0mop\u001b[0m\u001b[0;34m,\u001b[0m \u001b[0mx\u001b[0m\u001b[0;34m,\u001b[0m \u001b[0my\u001b[0m\u001b[0;34m)\u001b[0m\u001b[0;34m\u001b[0m\u001b[0m\n\u001b[0m\u001b[1;32m    766\u001b[0m         \u001b[0;32melse\u001b[0m\u001b[0;34m:\u001b[0m\u001b[0;34m\u001b[0m\u001b[0m\n\u001b[1;32m    767\u001b[0m \u001b[0;34m\u001b[0m\u001b[0m\n",
      "\u001b[0;32m/Users/melon/anaconda3/lib/python3.6/site-packages/pandas/core/ops.py\u001b[0m in \u001b[0;36m_comp_method_OBJECT_ARRAY\u001b[0;34m(op, x, y)\u001b[0m\n\u001b[1;32m    741\u001b[0m             \u001b[0my\u001b[0m \u001b[0;34m=\u001b[0m \u001b[0my\u001b[0m\u001b[0;34m.\u001b[0m\u001b[0mvalues\u001b[0m\u001b[0;34m\u001b[0m\u001b[0m\n\u001b[1;32m    742\u001b[0m \u001b[0;34m\u001b[0m\u001b[0m\n\u001b[0;32m--> 743\u001b[0;31m         \u001b[0mresult\u001b[0m \u001b[0;34m=\u001b[0m \u001b[0mlib\u001b[0m\u001b[0;34m.\u001b[0m\u001b[0mvec_compare\u001b[0m\u001b[0;34m(\u001b[0m\u001b[0mx\u001b[0m\u001b[0;34m,\u001b[0m \u001b[0my\u001b[0m\u001b[0;34m,\u001b[0m \u001b[0mop\u001b[0m\u001b[0;34m)\u001b[0m\u001b[0;34m\u001b[0m\u001b[0m\n\u001b[0m\u001b[1;32m    744\u001b[0m     \u001b[0;32melse\u001b[0m\u001b[0;34m:\u001b[0m\u001b[0;34m\u001b[0m\u001b[0m\n\u001b[1;32m    745\u001b[0m         \u001b[0mresult\u001b[0m \u001b[0;34m=\u001b[0m \u001b[0mlib\u001b[0m\u001b[0;34m.\u001b[0m\u001b[0mscalar_compare\u001b[0m\u001b[0;34m(\u001b[0m\u001b[0mx\u001b[0m\u001b[0;34m,\u001b[0m \u001b[0my\u001b[0m\u001b[0;34m,\u001b[0m \u001b[0mop\u001b[0m\u001b[0;34m)\u001b[0m\u001b[0;34m\u001b[0m\u001b[0m\n",
      "\u001b[0;32mpandas/_libs/lib.pyx\u001b[0m in \u001b[0;36mpandas._libs.lib.vec_compare (pandas/_libs/lib.c:14284)\u001b[0;34m()\u001b[0m\n",
      "\u001b[0;31mValueError\u001b[0m: Arrays were different lengths: 9800 vs 21"
     ]
    }
   ],
   "source": [
    "is_model.get_similar_items(['U Smile-Justin Bieber'])"
   ]
  },
  {
   "cell_type": "code",
   "execution_count": null,
   "metadata": {
    "collapsed": true
   },
   "outputs": [],
   "source": []
  },
  {
   "cell_type": "code",
   "execution_count": null,
   "metadata": {
    "collapsed": true
   },
   "outputs": [],
   "source": []
  }
 ],
 "metadata": {
  "kernelspec": {
   "display_name": "Python 3",
   "language": "python",
   "name": "python3"
  },
  "language_info": {
   "codemirror_mode": {
    "name": "ipython",
    "version": 3
   },
   "file_extension": ".py",
   "mimetype": "text/x-python",
   "name": "python",
   "nbconvert_exporter": "python",
   "pygments_lexer": "ipython3",
   "version": "3.6.1"
  }
 },
 "nbformat": 4,
 "nbformat_minor": 2
}
